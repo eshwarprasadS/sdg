{
 "cells": [
  {
   "cell_type": "code",
   "execution_count": 1,
   "metadata": {},
   "outputs": [],
   "source": [
    "#Notebook showing how to execute annotation with SDG with a custom annotation yaml"
   ]
  },
  {
   "cell_type": "markdown",
   "metadata": {},
   "source": [
    "# Annotation with SDG using Guided Decoding"
   ]
  },
  {
   "cell_type": "markdown",
   "metadata": {},
   "source": [
    "## Importing the necessary libraries"
   ]
  },
  {
   "cell_type": "code",
   "execution_count": 17,
   "metadata": {},
   "outputs": [],
   "source": [
    "# First Party\n",
    "from instructlab.sdg.pipeline import Pipeline, PipelineContext\n",
    "from instructlab.sdg.blocks.llmblock import LLMBlock\n",
    "# Third Party\n",
    "from datasets import load_dataset\n",
    "from openai import OpenAI\n",
    "import yaml\n",
    "import os"
   ]
  },
  {
   "cell_type": "markdown",
   "metadata": {},
   "source": [
    "## Serve LLM through ilab serve command"
   ]
  },
  {
   "cell_type": "markdown",
   "metadata": {},
   "source": [
    "Run the following shell command to serve the Mixtral-8x7B-Instruct-v0.1 model on port 8000 (by default). The mixtral model is quite large and may take a while to be served through vLLM.\n",
    "\n",
    "*Note*: You can serve any other desired model by changing the model-path argument. The rest of this notebook will work seamlessly with any other model as long we can wrap the served model in an OpenAI client"
   ]
  },
  {
   "cell_type": "markdown",
   "metadata": {},
   "source": [
    "`ilab serve --model-path ~/.cache/instructlab/models/mistralai/Mixtral-8x7B-Instruct-v0.1/`"
   ]
  },
  {
   "cell_type": "markdown",
   "metadata": {},
   "source": [
    "Wrap the served model in an OpenAI client"
   ]
  },
  {
   "cell_type": "code",
   "execution_count": 4,
   "metadata": {},
   "outputs": [],
   "source": [
    "client = OpenAI(\n",
    "    base_url=\"http://localhost:8000/v1\",  # Your model endpoint\n",
    "    api_key=\"dummy-key\"  # vLLM doesn't check the key, but one is required\n",
    ")"
   ]
  },
  {
   "cell_type": "markdown",
   "metadata": {},
   "source": [
    "Make sure the model is served before running the next cell, and that the following cell returns the correct model id"
   ]
  },
  {
   "cell_type": "code",
   "execution_count": 5,
   "metadata": {},
   "outputs": [
    {
     "data": {
      "text/plain": [
       "'/home/ec2-user/.cache/instructlab/models/mistralai/Mixtral-8x7B-Instruct-v0.1'"
      ]
     },
     "execution_count": 5,
     "metadata": {},
     "output_type": "execute_result"
    }
   ],
   "source": [
    "models = client.models.list()\n",
    "teacher_model = models.data[0].id\n",
    "teacher_model #make sure this is the correct model"
   ]
  },
  {
   "cell_type": "markdown",
   "metadata": {},
   "source": [
    "# Importing and preparing classification dataset"
   ]
  },
  {
   "cell_type": "code",
   "execution_count": 6,
   "metadata": {},
   "outputs": [
    {
     "name": "stdout",
     "output_type": "stream",
     "text": [
      "DatasetDict({\n",
      "    train: Dataset({\n",
      "        features: ['text', 'label'],\n",
      "        num_rows: 100\n",
      "    })\n",
      "})\n"
     ]
    }
   ],
   "source": [
    "# Importing classification dataset from HuggingFace\n",
    "Dataset = load_dataset(\"argilla/synthetic-text-classification-news\")\n",
    "print(Dataset) # print details of the dataset"
   ]
  },
  {
   "cell_type": "code",
   "execution_count": 7,
   "metadata": {},
   "outputs": [
    {
     "name": "stdout",
     "output_type": "stream",
     "text": [
      "DatasetDict({\n",
      "    train: Dataset({\n",
      "        features: ['document', 'label'],\n",
      "        num_rows: 100\n",
      "    })\n",
      "})\n"
     ]
    }
   ],
   "source": [
    "# SDG requires a dataset with 'document' column\n",
    "Dataset = Dataset.rename_column(\"text\", \"document\")\n",
    "print(Dataset) # print details of the dataset\n"
   ]
  },
  {
   "cell_type": "markdown",
   "metadata": {},
   "source": [
    "Identify the unique categories in the dataset to include in the annotation yaml file"
   ]
  },
  {
   "cell_type": "code",
   "execution_count": 8,
   "metadata": {},
   "outputs": [
    {
     "data": {
      "text/plain": [
       "['science',\n",
       " 'technology',\n",
       " 'business',\n",
       " 'health',\n",
       " 'entertainment',\n",
       " 'environment',\n",
       " 'sports',\n",
       " 'politics']"
      ]
     },
     "execution_count": 8,
     "metadata": {},
     "output_type": "execute_result"
    }
   ],
   "source": [
    "# Get unique categories from the dataset\n",
    "labels = Dataset['train'].features['label'].names\n",
    "labels"
   ]
  },
  {
   "cell_type": "markdown",
   "metadata": {},
   "source": [
    "Create annotation yaml configuration to leverage guided decoding, and include the labels under the 'guided choice' key like so"
   ]
  },
  {
   "cell_type": "code",
   "execution_count": 40,
   "metadata": {},
   "outputs": [],
   "source": [
    "# Create YAML configuration\n",
    "yaml_config = {\n",
    "    \"version\": \"1.0\",\n",
    "    \"blocks\": [\n",
    "        {\n",
    "            \"name\": \"annotation\",\n",
    "            \"type\": \"LLMBlock\",\n",
    "            \"config\": {\n",
    "                \"config_path\": \"annotation_config.yaml\",\n",
    "                \"model_id\": \"mistralai/Mixtral-8x7B-Instruct-v0.1\",\n",
    "                \"output_cols\": [\"output\"],\n",
    "                \"gen_kwargs\": {\n",
    "                    \"max_tokens\": 20,\n",
    "                    \"temperature\": 0,\n",
    "                    \"extra_body\": {\n",
    "                        \"guided_choice\": labels  # This will use your labels list\n",
    "                    }\n",
    "                }\n",
    "            },\n",
    "            \"drop_duplicates\": [\"document\"]\n",
    "        }\n",
    "    ]\n",
    "}\n",
    "\n",
    "# Write to YAML file\n",
    "with open('annotation_pipeline.yaml', 'w') as f: #this is the file that will be used to create the annotation pipeline\n",
    "    yaml.dump(yaml_config, f, default_flow_style=False)"
   ]
  },
  {
   "cell_type": "markdown",
   "metadata": {},
   "source": [
    "Split the dataset into ICL (In-Context Learning) examples, validation and unlabeled set"
   ]
  },
  {
   "cell_type": "code",
   "execution_count": 41,
   "metadata": {},
   "outputs": [
    {
     "name": "stdout",
     "output_type": "stream",
     "text": [
      "ICL examples: 3\n",
      "Validation examples: 7\n",
      "Unlabeled examples: 90\n"
     ]
    }
   ],
   "source": [
    "K = 3 #number of ICL examples\n",
    "N = 7 #number of validation examples\n",
    "\n",
    "icl_examples = Dataset['train'].select(range(K))\n",
    "validation_examples = Dataset['train'].select(range(K, K+N))\n",
    "unlabeled_examples = Dataset['train'].select(range(K+N, len(Dataset['train'])))\n",
    "\n",
    "print(f\"ICL examples: {len(icl_examples)}\")\n",
    "print(f\"Validation examples: {len(validation_examples)}\")\n",
    "print(f\"Unlabeled examples: {len(unlabeled_examples)}\")"
   ]
  },
  {
   "cell_type": "code",
   "execution_count": 42,
   "metadata": {},
   "outputs": [
    {
     "name": "stdout",
     "output_type": "stream",
     "text": [
      "{'document': 'A star-studded cast, including Leonardo DiCaprio and Jennifer Lawrence, has been announced for the upcoming biographical drama film about the life of the famous musician, Elvis Presley. The movie, directed by Baz Luhrmann, is set to release in summer 2024 and promises to be a musical spectacle.', 'label': 4}\n",
      "{'document': 'The recent study suggests a correlation between increased sugar consumption and a higher risk of cardiovascular disease, but more research is needed to confirm the causal relationship. The American Heart Association recommends that adults limit their daily sugar intake to 25 grams.', 'label': 3}\n",
      "{'document': 'Rising sea levels threaten the homes of millions of people worldwide, with coastal cities like Miami and Bangkok already experiencing frequent flooding. Climate change is the main culprit behind this phenomenon, as the melting of polar ice caps contributes to a global increase in ocean levels. In response, governments are investing in sea walls and other infrastructure to protect against the rising tide, but some experts argue that these measures may not be enough to save vulnerable communities.', 'label': 5}\n"
     ]
    }
   ],
   "source": [
    "for sample in icl_examples:\n",
    "    print(sample)\n"
   ]
  },
  {
   "cell_type": "markdown",
   "metadata": {},
   "source": [
    "Create annotation config YAML including the ICL examples in it like so:"
   ]
  },
  {
   "cell_type": "code",
   "execution_count": 43,
   "metadata": {},
   "outputs": [],
   "source": [
    "# Create annotation config YAML\n",
    "annotation_config = {\n",
    "    \"system\": \"You are an expert in annotation. You will be given a text and you need to annotate it with the appropriate category based on the context of the text.\",\n",
    "    \"introduction\": \"Task Description: annotate the following text with the appropriate category based on the context of the text.\",\n",
    "    \"principles\": \"\"\"\n",
    "- The category should be based on the context of the text\n",
    "- Use the single word category that best describes the text\n",
    "- Use the category that is most dominant in the given text\"\"\",\n",
    "    \"examples\": \"Here are some examples to help you understand the annotation task better:\\n\\n\" + \n",
    "                \"\\n\\n\".join([\n",
    "                    f\"Input: {example['document']}\\nLabel: {labels[int(example['label'])]}\" \n",
    "                    for example in icl_examples\n",
    "                ]),\n",
    "    \"generation\": \"Here is the query for annotation:\\n{{document}}\",\n",
    "    \"start_tags\": [\"\"],\n",
    "    \"end_tags\": [\"\"]\n",
    "}\n",
    "\n",
    "# Write to YAML file\n",
    "with open('annotation_config.yaml', 'w') as f:\n",
    "    yaml.dump(annotation_config, f, default_flow_style=False)"
   ]
  },
  {
   "cell_type": "markdown",
   "metadata": {},
   "source": [
    "## Initialize pipeline context and annotation block"
   ]
  },
  {
   "cell_type": "code",
   "execution_count": 50,
   "metadata": {},
   "outputs": [],
   "source": [
    "\n",
    "ctx = PipelineContext(client=client, model_family=\"mixtral\", model_id=teacher_model)\n",
    "\n",
    "# Get the current directory of the notebook\n",
    "current_dir = os.path.dirname(os.path.abspath(''))\n",
    "# Create the absolute path to the pipeline yaml\n",
    "pipeline_yaml = os.path.join(current_dir,\"annotation\",\"annotation_pipeline.yaml\")\n",
    "\n",
    "# Use it in from_file\n",
    "annotation_pipe = Pipeline.from_file(ctx, pipeline_yaml)"
   ]
  },
  {
   "cell_type": "markdown",
   "metadata": {},
   "source": [
    "Main Driver Code"
   ]
  },
  {
   "cell_type": "code",
   "execution_count": 51,
   "metadata": {},
   "outputs": [],
   "source": [
    "gen_data = annotation_pipe.generate(unlabeled_examples)"
   ]
  },
  {
   "cell_type": "markdown",
   "metadata": {},
   "source": [
    "Check output features"
   ]
  },
  {
   "cell_type": "code",
   "execution_count": 52,
   "metadata": {},
   "outputs": [
    {
     "data": {
      "text/plain": [
       "{'document': Value(dtype='string', id=None),\n",
       " 'label': Value(dtype='int64', id=None),\n",
       " 'output': Value(dtype='string', id=None)}"
      ]
     },
     "execution_count": 52,
     "metadata": {},
     "output_type": "execute_result"
    }
   ],
   "source": [
    "gen_data.features"
   ]
  },
  {
   "cell_type": "markdown",
   "metadata": {},
   "source": [
    "Print generated samples with true and predicted labels"
   ]
  },
  {
   "cell_type": "code",
   "execution_count": 53,
   "metadata": {},
   "outputs": [
    {
     "name": "stdout",
     "output_type": "stream",
     "text": [
      "\n",
      "document:  The New York Yankees defeated the Boston Red Sox 5-2 in a highly anticipated matchup at Yankee Stadium. Aaron Judge hit a home run in the bottom of the 8th inning, securing the win for the Yankees. \n",
      "true label:  sports \n",
      "predicted label:  sports\n",
      "\n",
      "document:  The global economic downturn is largely attributed to the unstable global trade policies and the rising costs of raw materials, which has led to a sharp decline in consumer spending and a corresponding decrease in the demand for luxury goods. As a result, many high-end retailers are experiencing significant financial losses, prompting some to reconsider their business strategies. \n",
      "true label:  business \n",
      "predicted label:  business\n",
      "\n",
      "document:  The Los Angeles Lakers' star player suffered a season-ending injury during a physical altercation with a teammate in practice, leaving the team's chances at the playoffs in jeopardy. \n",
      "true label:  sports \n",
      "predicted label:  business\n",
      "\n",
      "document:  Rising global temperatures are melting polar ice caps at an alarming rate, causing sea levels to rise and threatening the homes of millions of people living in low-lying areas. \n",
      "true label:  environment \n",
      "predicted label:  environment\n",
      "\n",
      "document:  The Federal Reserve raised interest rates by 0.75 percentage points to combat inflation, its largest hike since 1994. The move is expected to slow down the economy and reduce consumer spending. \n",
      "true label:  business \n",
      "predicted label:  business\n",
      "\n",
      "document:  A severe drought has affected over 90% of the region, causing widespread crop failures and devastating livestock populations. As a result, the local government has imposed strict water rationing measures to conserve what's left of the region's scarce water resources. \n",
      "true label:  environment \n",
      "predicted label:  environment\n",
      "\n",
      "document:  The phenomenon of ball lightning has puzzled scientists for centuries, with reports dating back to ancient China. Recent studies suggest that it may be caused by the interaction between electromagnetic fields and atmospheric gases. Researchers have been able to replicate the phenomenon in laboratory settings, but the exact mechanisms behind it are still not fully understood. \n",
      "true label:  science \n",
      "predicted label:  science\n",
      "\n",
      "document:  The highly anticipated Marvel Studios production 'Eternals' directed by Chloé Zhao is generating significant buzz among fans and critics alike, with many praising the film's visually stunning depiction of celestial beings and the themes of identity and belonging. \n",
      "true label:  entertainment \n",
      "predicted label:  entertainment\n",
      "\n",
      "document:  Artificial intelligence has revolutionized the way we live, work, and interact with each other. From virtual assistants like Siri and Alexa to self-driving cars, AI is transforming industries and changing the world. Researchers are now working on developing more advanced AI systems that can learn and adapt like humans. \n",
      "true label:  technology \n",
      "predicted label:  technology\n",
      "\n",
      "document:  The highly anticipated 'Eternal Eclipse' concert series, featuring renowned artists from around the world, has been met with both excitement and criticism. Critics have argued that the extravagant production costs and environmental impact of the event outweigh its artistic value. \n",
      "true label:  entertainment \n",
      "predicted label:  environment\n",
      "\n",
      "document:  The recent surge in stock prices has led to a significant increase in the value of investors' portfolios, prompting many to invest more in the market. However, experts warn that this trend may be unsustainable in the long term due to rising inflation and interest rates. \n",
      "true label:  business \n",
      "predicted label:  business\n",
      "\n",
      "document:  Rising sea levels and increased storm intensity are projected to displace millions of people worldwide, with low-lying islands and coastal communities being particularly vulnerable. Climate change is exacerbating these issues, leading to more frequent and severe natural disasters. Efforts to reduce greenhouse gas emissions and transition to renewable energy sources are crucial in mitigating the impacts of climate change. \n",
      "true label:  environment \n",
      "predicted label:  environment\n",
      "\n",
      "document:  New research suggests that excessive sugar consumption may lead to a higher risk of developing type 2 diabetes. A recent study published in a prominent medical journal found a strong correlation between high sugar intake and the onset of this chronic condition. The study's authors recommend limiting daily sugar intake to minimize this risk. \n",
      "true label:  health \n",
      "predicted label:  health\n",
      "\n",
      "document:  The recent economic downturn has sparked a heated debate over the role of government intervention in the free market. While some argue that increased regulation can lead to stagnation, others contend that it is necessary to prevent the concentration of wealth among the elite. As the world grapples with the consequences of globalization, policymakers must carefully consider the delicate balance between economic growth and social welfare. \n",
      "true label:  politics \n",
      "predicted label:  politics\n",
      "\n",
      "document:  A new study reveals that watching movies can have a profound impact on our perceptions of social norms, influencing how we perceive and interact with others in our daily lives. The research, conducted by a team of psychologists, found that exposure to certain types of films can shape our attitudes towards issues like diversity and inclusion. \n",
      "true label:  entertainment \n",
      "predicted label:  environment\n",
      "\n",
      "document:  A recent breakthrough in artificial neural networks has enabled researchers to develop a new type of computer chip that can process information at an unprecedented speed. The innovative design utilizes a novel architecture that allows for increased parallel processing, making it an attractive solution for applications in fields such as finance, healthcare, and scientific research. \n",
      "true label:  technology \n",
      "predicted label:  technology\n",
      "\n",
      "document:  The latest blockbuster film has been making waves in the box office, with its impressive visual effects and engaging storyline captivating audiences worldwide. The movie's protagonist, a skilled magician, must use his talents to solve a mysterious crime that has left the city in shock. \n",
      "true label:  entertainment \n",
      "predicted label:  entertainment\n",
      "\n",
      "document:  The Amazon rainforest, a vital component of the Earth's ecosystem, is facing a severe threat from deforestation. Rising temperatures and increased agricultural demand have led to the clearance of millions of acres of forest, resulting in the loss of biodiversity and exacerbating climate change. \n",
      "true label:  environment \n",
      "predicted label:  environment\n",
      "\n",
      "document:  The upcoming film adaptation of a popular young adult novel is generating buzz among fans, with the release of a new trailer showcasing the lead actress's impressive action scenes. The movie, based on the bestselling book series, promises to deliver a thrilling and emotional ride for audiences. \n",
      "true label:  entertainment \n",
      "predicted label:  entertainment\n",
      "\n",
      "document:  The highly anticipated film 'Echoes in the Abyss' was met with widespread critical acclaim upon its release, with many praising the cinematography and the lead actor's nuanced performance. The movie follows the story of a marine biologist who embarks on a perilous journey to the depths of the ocean to uncover the secrets of a long-lost civilization. As the biologist delves deeper into the unknown, she begins to unravel a mysterious connection between the ancient ruins and a catastrophic event that threatens the very fabric of our planet. \n",
      "true label:  entertainment \n",
      "predicted label:  entertainment\n",
      "\n",
      "document:  The latest season of the popular TV show 'Stranger Things' has been widely acclaimed for its nostalgic value and thrilling plot twists. The show's creators drew inspiration from classic sci-fi films of the 1980s, which has sparked a renewed interest in the genre. \n",
      "true label:  entertainment \n",
      "predicted label:  entertainment\n",
      "\n",
      "document:  A recent study has found that regular consumption of leafy green vegetables such as kale and spinach can significantly reduce the risk of heart disease in adults. \n",
      "true label:  health \n",
      "predicted label:  health\n",
      "\n",
      "document:  The basketball player's incredible dunk sent the crowd into a frenzy as the underdog team trailed by 12 points with only 5 minutes left in the game. \n",
      "true label:  sports \n",
      "predicted label:  sports\n",
      "\n",
      "document:  Artificial intelligence has been making tremendous strides in recent years, with significant advancements in natural language processing and machine learning. As a result, AI-powered chatbots are becoming increasingly sophisticated, capable of understanding and generating human-like language. This technology holds tremendous promise for improving customer service, automating routine tasks, and enhancing overall user experience. \n",
      "true label:  technology \n",
      "predicted label:  technology\n",
      "\n",
      "document:  The Centers for Disease Control and Prevention (CDC) announced today that the widespread outbreak of monkeypox in several countries has been declared a global health emergency. The organization cited the rapid spread of the disease and the need for increased vaccination efforts to control the outbreak. \n",
      "true label:  health \n",
      "predicted label:  health\n",
      "\n",
      "document:  The recent Supreme Court decision has sparked controversy among lawmakers, with some arguing that it undermines the separation of powers and gives the executive branch too much authority. \n",
      "true label:  politics \n",
      "predicted label:  politics\n",
      "\n",
      "document:  A-list celebrities, including Leonardo DiCaprio and Scarlett Johansson, will be walking the red carpet at the highly anticipated premiere of the new Marvel movie. \n",
      "true label:  entertainment \n",
      "predicted label:  entertainment\n",
      "\n",
      "document:  The multi-platinum rock band, formed in 1996, has been making music for over two decades, inspiring a devoted fan base with their energetic live performances and iconic hits like 'Last Resort' and 'Broken Wings'. \n",
      "true label:  entertainment \n",
      "predicted label:  entertainment\n",
      "\n",
      "document:  Rising global temperatures are causing polar bears to adapt their hunting strategies due to the melting of sea ice, making it harder for them to find seals, their primary source of food. \n",
      "true label:  environment \n",
      "predicted label:  environment\n",
      "\n",
      "document:  A recent study published in the Journal of Infectious Diseases found that wearing a mask in public places can significantly reduce the transmission of respiratory viruses, including COVID-19. The study, which involved over 2,000 participants, showed that mask-wearing reduced the rate of infection by 56%. \n",
      "true label:  health \n",
      "predicted label:  health\n",
      "\n",
      "document:  The recent breakthrough in quantum computing has enabled researchers to simulate complex molecular interactions with unprecedented accuracy, paving the way for potential medical advancements and more efficient drug development. \n",
      "true label:  science \n",
      "predicted label:  technology\n",
      "\n",
      "document:  The highly anticipated sequel to the 2010 blockbuster has been shrouded in mystery, with rumors circulating that the director will take a more experimental approach to storytelling. \n",
      "true label:  entertainment \n",
      "predicted label:  entertainment\n",
      "\n",
      "document:  The rapidly warming climate is causing sea levels to rise at an alarming rate, leading to increased flooding in coastal cities and the loss of homes for thousands of people. \n",
      "true label:  environment \n",
      "predicted label:  environment\n",
      "\n",
      "document:  The Los Angeles Lakers' LeBron James led his team to a thrilling 122-115 victory over the Denver Nuggets, with James scoring 42 points and grabbing 10 rebounds. The win propelled the Lakers to the top of the Western Conference standings, as they improve to 25-5 on the season. \n",
      "true label:  sports \n",
      "predicted label:  sports\n",
      "\n",
      "document:  The new Marvel movie, starring Robert Downey Jr. and Scarlett Johansson, has been in production for over a year. The plot revolves around a group of superheroes who must band together to save the world from an ancient evil. \n",
      "true label:  entertainment \n",
      "predicted label:  entertainment\n",
      "\n",
      "document:  Elon Musk's Neuralink announced a breakthrough in brain-machine interface technology, allowing humans to control digital devices with their minds. This technology has the potential to revolutionize the way people interact with computers and could be used to help people with paralysis or other motor disorders. \n",
      "true label:  technology \n",
      "predicted label:  technology\n",
      "\n",
      "document:  LeBron James was named the NBA's Eastern Conference Player of the Week for the 15th time in his career after leading the Cleveland Cavaliers to a 3-0 record against their division rivals. \n",
      "true label:  sports \n",
      "predicted label:  sports\n",
      "\n",
      "document:  A recent breakthrough in artificial intelligence has enabled researchers to develop a new type of neural network that can learn and improve on its own without human intervention. \n",
      "true label:  technology \n",
      "predicted label:  technology\n",
      "\n",
      "document:  Rising temperatures in the Arctic are causing permafrost to thaw at an alarming rate, releasing methane gas into the atmosphere and contributing to climate change. \n",
      "true label:  environment \n",
      "predicted label:  environment\n",
      "\n",
      "document:  Recent studies have shown that a diet rich in fruits and vegetables can significantly reduce the risk of certain types of cancer. Researchers at a leading university found that participants who consumed more than five servings of fruits and vegetables daily had a 30% lower chance of developing colon cancer compared to those who ate fewer servings. This is a promising development in the fight against cancer. \n",
      "true label:  health \n",
      "predicted label:  health\n",
      "\n",
      "document:  A new study published in a leading scientific journal suggests that exposure to certain types of music may have a profound impact on a person's cognitive abilities. Researchers found that individuals who listened to classical music demonstrated improved memory and problem-solving skills compared to those who listened to popular music. \n",
      "true label:  science \n",
      "predicted label:  science\n",
      "\n",
      "document:  The 95th Academy Awards ceremony, honoring the best in film for 2022, is scheduled to take place on March 12, 2023, at the Dolby Theatre in Hollywood, Los Angeles, California. The ceremony will be hosted by Jimmy Kimmel for the third time. \n",
      "true label:  entertainment \n",
      "predicted label:  entertainment\n",
      "\n",
      "document:  The Dow Jones Industrial Average surged 200 points in response to the Federal Reserve's decision to lower interest rates, a move that is expected to boost economic growth and stimulate business investment. \n",
      "true label:  business \n",
      "predicted label:  business\n",
      "\n",
      "document:  The recent outbreak of a mysterious illness in a remote village has left the local healthcare system overwhelmed. According to reports, the affected individuals have shown symptoms of respiratory distress, fever, and severe body aches. Doctors are scrambling to identify the cause of the disease, with some speculating that it may be a previously unknown strain of influenza. \n",
      "true label:  health \n",
      "predicted label:  health\n",
      "\n",
      "document:  The devastating Australian bushfires that started in September 2019 have burned over 10 million hectares of land, with the country's prime minister declaring a state of emergency in several regions. The fires have also released massive amounts of carbon dioxide into the atmosphere, contributing to climate change. \n",
      "true label:  environment \n",
      "predicted label:  environment\n",
      "\n",
      "document:  The recent surge in plastic waste in our oceans is a pressing issue that requires immediate attention from governments and corporations. The World Economic Forum estimates that there will be more plastic than fish in the ocean by 2050, highlighting the urgent need for sustainable solutions. Rising temperatures and changing weather patterns also exacerbate the problem, making it essential to adopt eco-friendly practices. \n",
      "true label:  environment \n",
      "predicted label:  environment\n",
      "\n",
      "document:  The new Marvel movie 'Eternals' has been breaking box office records since its release last week, with fans flocking to theaters worldwide to catch a glimpse of the film's stunning visuals and intricate storyline. However, some critics have pointed out that the movie's themes of identity and belonging are also reminiscent of classic works of literature, such as 'The Catcher in the Rye' and 'To Kill a Mockingbird'. As a result, the film has sparked a heated debate among scholars and movie enthusiasts alike, with some arguing that it is a significant contribution to the literary canon and others dismissing it as a shallow popcorn flick. \n",
      "true label:  entertainment \n",
      "predicted label:  entertainment\n",
      "\n",
      "document:  The highly anticipated movie 'Avengers: Endgame' shattered box office records after its release, grossing over 2.79 billion dollars worldwide. The film's success was met with widespread acclaim from both critics and audiences alike, cementing its status as one of the most successful movies of all time. \n",
      "true label:  entertainment \n",
      "predicted label:  entertainment\n",
      "\n",
      "document:  The Federal Reserve announced a 0.5% interest rate hike, citing concerns over inflation and the economy's performance. The move is expected to impact consumer spending and business investments. \n",
      "true label:  business \n",
      "predicted label:  business\n",
      "\n",
      "document:  The World Health Organization (WHO) has announced a new global campaign to increase access to mental health services, particularly in low-income countries. According to the WHO, approximately one in four people will experience a mental health disorder each year, with many cases going untreated. The campaign aims to raise awareness about the importance of mental health and to reduce stigma associated with mental illness. \n",
      "true label:  health \n",
      "predicted label:  health\n",
      "\n",
      "document:  The government has announced a new initiative to invest $1 billion in renewable energy projects, aiming to reduce carbon emissions by 20% within the next five years. \n",
      "true label:  environment \n",
      "predicted label:  environment\n",
      "\n",
      "document:  A recent study has found that plastic waste in the world's oceans is causing irreparable harm to marine life, including sea turtles and fish. The plastic waste is ingested by the animals, causing blockages, nutrient deficiencies, and even death. The impact of plastic waste on the environment is a pressing concern that requires immediate attention and action. \n",
      "true label:  environment \n",
      "predicted label:  environment\n",
      "\n",
      "document:  The highly anticipated movie 'Avengers: Endgame' has finally been released, breaking multiple box office records and setting a new standard for action-packed blockbusters. Fans worldwide have been eagerly awaiting the culmination of the Marvel Cinematic Universe's 22-film saga, and the movie did not disappoint. With a star-studded cast and heart-pumping action sequences, 'Avengers: Endgame' is a must-watch for anyone who loves superheroes. \n",
      "true label:  entertainment \n",
      "predicted label:  entertainment\n",
      "\n",
      "document:  The recent federal budget proposal has sparked controversy among lawmakers, with some criticizing the allocation of funds for infrastructure projects. Critics argue that the majority of the funds will be spent on projects that benefit wealthy developers rather than the general public. \n",
      "true label:  politics \n",
      "predicted label:  politics\n",
      "\n",
      "document:  The Los Angeles Lakers are set to face off against their arch-rivals, the Boston Celtics, in a highly anticipated matchup at the Staples Center tonight. The Lakers' star player, LeBron James, has been dominating the league with his impressive scoring average and has led his team to a 10-game winning streak. \n",
      "true label:  sports \n",
      "predicted label:  business\n",
      "\n",
      "document:  A new study published in the Journal of Psychology and Education found that listening to classical music can have a profound impact on a person's cognitive abilities, particularly in the areas of memory and spatial-temporal skills. Researchers from the University of California conducted a series of experiments, involving over 1,000 participants, and discovered that those who listened to classical music demonstrated significant improvements in these areas compared to those who listened to popular music or silence. \n",
      "true label:  science \n",
      "predicted label:  technology\n",
      "\n",
      "document:  The world's largest coral reef, the Great Barrier Reef in Australia, has experienced its highest level of coral bleaching since records began, with scientists warning of devastating consequences for the ecosystem. Rising ocean temperatures have caused 30% of the reef's coral to die, and experts predict that if the trend continues, the reef could be destroyed within a decade. \n",
      "true label:  environment \n",
      "predicted label:  environment\n",
      "\n",
      "document:  The US Supreme Court has ruled in favor of a landmark case that challenges the government's authority to collect citizens' private data without a warrant. The decision, which was made along party lines, has sparked heated debate among lawmakers and civil liberties groups. While some argue that the ruling will give citizens more protection from government overreach, others claim that it will hinder national security efforts. \n",
      "true label:  politics \n",
      "predicted label:  politics\n",
      "\n",
      "document:  The annual Coachella music festival has announced its headlining acts for this year, featuring A-list artists such as Billie Eilish, Kendrick Lamar, and Paul McCartney. The three-day event will take place in April at the Empire Polo Club in Indio, California. Festival-goers can expect to see a variety of performances, including rock, pop, and hip-hop. Tickets for the event are already selling out quickly, with many fans eagerly anticipating the chance to see their favorite artists live. \n",
      "true label:  entertainment \n",
      "predicted label:  entertainment\n",
      "\n",
      "document:  The US Federal Reserve raised interest rates by 0.75 percentage points to combat inflation, which rose to a 40-year high last month. The decision aims to cool down the economy and bring price growth back under control. \n",
      "true label:  business \n",
      "predicted label:  business\n",
      "\n",
      "document:  The Dow Jones Industrial Average surged 200 points yesterday as investors reacted positively to the announcement of a major merger between two of the world's largest tech companies. The move is seen as a strategic play by the companies to expand their market share and gain a competitive edge. \n",
      "true label:  business \n",
      "predicted label:  business\n",
      "\n",
      "document:  The recent decision by the government to impose a carbon tax has sparked a heated debate among economists, with some arguing that it will lead to a significant increase in the cost of living for low-income households, while others believe it will encourage businesses to adopt more sustainable practices and reduce their carbon footprint. \n",
      "true label:  environment \n",
      "predicted label:  environment\n",
      "\n",
      "document:  The increasing demand for sustainable practices has led to a surge in renewable energy production, with wind and solar farms popping up across the globe. However, the environmental impact of these developments is not without controversy, with concerns over habitat destruction and wildlife disruption. Meanwhile, scientists are working on innovative solutions to mitigate these effects, including the use of drones to monitor and maintain these facilities. \n",
      "true label:  environment \n",
      "predicted label:  environment\n",
      "\n",
      "document:  The recent decision by the European Union to implement a carbon pricing mechanism has sparked debate among economists, with some arguing it will lead to a significant reduction in greenhouse gas emissions, while others claim it will disproportionately burden low-income households. Critics point out that the EU's current energy policy relies heavily on imported fossil fuels, making it difficult to achieve the desired emissions reduction. \n",
      "true label:  environment \n",
      "predicted label:  environment\n",
      "\n",
      "document:  The recent decision by the Supreme Court to strike down a key provision of the Voting Rights Act has sparked widespread outrage and protests across the country. Critics argue that the ruling effectively disenfranchises marginalized communities, while supporters claim it promotes states' rights and reduces federal overreach. As the debate continues to unfold, many are left wondering what this means for the future of voting rights in America. \n",
      "true label:  politics \n",
      "predicted label:  politics\n",
      "\n",
      "document:  The US Senate has passed a bill to increase funding for renewable energy sources, with a focus on wind and solar power. The legislation aims to reduce the country's reliance on fossil fuels and combat climate change. President Biden has expressed support for the bill, citing its potential to create jobs and stimulate economic growth. \n",
      "true label:  environment \n",
      "predicted label:  environment\n",
      "\n",
      "document:  The latest quarterly earnings report revealed a significant increase in revenue for major tech companies, leading to a surge in stock prices and speculation about future investments. This trend is expected to continue as more companies begin to adopt digital transformation strategies. \n",
      "true label:  business \n",
      "predicted label:  business\n",
      "\n",
      "document:  The new study suggests a strong correlation between regular consumption of processed foods and a heightened risk of developing type 2 diabetes in younger adults. While the researchers acknowledge the limitations of their findings, they recommend a balanced diet as the most effective preventative measure. \n",
      "true label:  health \n",
      "predicted label:  health\n",
      "\n",
      "document:  Oscar-winning actress Emma Stone will star in a new musical film adaptation of F. Scott Fitzgerald's 'The Great Gatsby', alongside a young and talented cast, which includes a number of fresh faces from Broadway and a 'La La Land' alum. \n",
      "true label:  entertainment \n",
      "predicted label:  entertainment\n",
      "\n",
      "document:  Rising temperatures and changing precipitation patterns are expected to severely impact global food production, leading to increased malnutrition and social unrest. The World Meteorological Organization warns that extreme weather events, such as droughts and floods, will become more frequent and intense, posing significant threats to food security and economic stability. \n",
      "true label:  environment \n",
      "predicted label:  environment\n",
      "\n",
      "document:  The development of artificial intelligence has led to significant advancements in the field of computer science. Researchers have successfully integrated machine learning algorithms into various applications, including natural language processing and computer vision. This has opened up new avenues for innovation and has the potential to revolutionize industries such as healthcare and finance. \n",
      "true label:  technology \n",
      "predicted label:  technology\n",
      "\n",
      "document:  Rising global temperatures are causing the permafrost to thaw, releasing massive amounts of methane, a potent greenhouse gas. This is exacerbating the climate crisis, with severe consequences for ecosystems and human societies. \n",
      "true label:  environment \n",
      "predicted label:  environment\n",
      "\n",
      "document:  In a surprise move, the famous singer-songwriter Taylor Swift announced that she will be releasing a new album, titled 'Midnights', on October 21st. The album is expected to be a departure from her usual country-pop sound, with Swift hinting at a darker and more experimental direction. \n",
      "true label:  entertainment \n",
      "predicted label:  entertainment\n",
      "\n",
      "document:  As the world's largest rainforest, the Amazon is home to an estimated 10% of all known plant and animal species. However, the rapid deforestation rate due to agricultural expansion and logging is threatening the ecosystem's delicate balance, with scientists warning of catastrophic consequences if left unchecked. \n",
      "true label:  environment \n",
      "predicted label:  environment\n",
      "\n",
      "document:  The UK government has announced a new initiative to regulate the use of cryptocurrencies in financial transactions, citing concerns over money laundering and tax evasion. The move is seen as a major step forward in bringing the booming industry under control, but some experts warn that it may stifle innovation and drive the industry underground. \n",
      "true label:  politics \n",
      "predicted label:  business\n",
      "\n",
      "document:  New research suggests that incorporating more omega-3 fatty acids into one's diet can help alleviate symptoms of depression. A study published in the Journal of Affective Disorders found that participants who supplemented their diet with omega-3s experienced significant improvements in mood compared to those who did not. \n",
      "true label:  health \n",
      "predicted label:  health\n",
      "\n",
      "document:  A popular music festival in the southern region of Spain has just announced its lineup for this year, featuring a renowned singer-songwriter known for her powerful voice and thought-provoking lyrics. \n",
      "true label:  entertainment \n",
      "predicted label:  entertainment\n",
      "\n",
      "document:  The Dow Jones Industrial Average dropped 150 points yesterday due to a sell-off in the tech sector, while the S&P 500 saw a moderate decline of 1.2%. Analysts attribute the decline to a recent warning from a major tech company about a potential slowdown in revenue growth. \n",
      "true label:  business \n",
      "predicted label:  business\n",
      "\n",
      "document:  The recent decision by the European Union to impose stricter regulations on carbon emissions has been met with mixed reactions from member states. While some countries have expressed support for the new laws, others have raised concerns about the economic impact. The EU's commitment to reducing greenhouse gas emissions by 55% by 2030 is seen as a step towards a more sustainable future, but critics argue that the regulations could lead to job losses and increased costs for businesses. \n",
      "true label:  environment \n",
      "predicted label:  environment\n",
      "\n",
      "document:  The Dow Jones Industrial Average surged 2.5% in morning trading after reports emerged that the Federal Reserve may cut interest rates to boost economic growth. \n",
      "true label:  business \n",
      "predicted label:  business\n",
      "\n",
      "document:  Rising global temperatures are causing polar bears to struggle in finding suitable habitats as sea ice melts at an alarming rate. \n",
      "true label:  environment \n",
      "predicted label:  environment\n",
      "\n",
      "document:  Scientists have made a groundbreaking discovery in the field of astrophysics, finding evidence of a massive galaxy in the early universe that is 90% the size of the Milky Way. This find is expected to rewrite the textbooks on galaxy formation and evolution. \n",
      "true label:  science \n",
      "predicted label:  science\n",
      "\n",
      "document:  Dwayne 'The Rock' Johnson, one of Hollywood's highest-paid stars, has announced plans to produce and star in a new TV series based on the popular video game 'Assassin's Creed'. The show, which will be aired on Netflix, will follow the adventures of a group of assassins in the medieval era. Johnson, who is known for his action-packed movies like 'Fast and Furious' and 'Jumanji', will not only star in the series but also serve as one of its executive producers. \n",
      "true label:  entertainment \n",
      "predicted label:  entertainment\n",
      "\n",
      "document:  A new study published in the Journal of the American Medical Association found a significant correlation between regular exercise and a reduced risk of developing type 2 diabetes. Researchers analyzed data from over 50,000 participants and concluded that individuals who engaged in moderate to vigorous physical activity for at least 30 minutes per day had a 29% lower risk of developing the disease compared to those who were sedentary. \n",
      "true label:  health \n",
      "predicted label:  health\n",
      "\n",
      "document:  The recent discovery of exoplanets in the Kepler-62 system has sparked debate among astronomers about the possibility of life existing elsewhere in the universe. Researchers have identified at least five planets that could potentially support life, with three of them located in the habitable zone where liquid water could exist. \n",
      "true label:  science \n",
      "predicted label:  science\n",
      "\n",
      "document:  Rising sea levels are threatening the homes of millions of people living in coastal areas around the world. As the polar ice caps melt at an alarming rate, the impact on global ecosystems is becoming increasingly apparent. Scientists warn that if we don't take immediate action to reduce carbon emissions, the consequences for our planet will be catastrophic. \n",
      "true label:  environment \n",
      "predicted label:  environment\n",
      "\n",
      "document:  As the polar ice caps continue to melt at an alarming rate, scientists are warning that the consequences of climate change are far more severe than initially thought. Rising sea levels are threatening coastal cities, and extreme weather events are becoming more frequent and intense. Meanwhile, the Amazon rainforest is experiencing devastating wildfires, and coral reefs are dying off due to ocean acidification. Experts warn that unless drastic action is taken, the effects of climate change could be catastrophic for our planet. \n",
      "true label:  environment \n",
      "predicted label:  environment\n",
      "\n",
      "document:  The 2024 Summer Olympics are set to take place in Paris this July, with the French national team competing for the top prize in the highly anticipated basketball tournament. \n",
      "true label:  sports \n",
      "predicted label:  entertainment\n",
      "\n",
      "document:  A recent study published in the Journal of Epidemiology and Community Health has found a strong correlation between excessive sugar consumption and an increased risk of developing type 2 diabetes. Researchers analyzed data from over 300,000 participants and discovered that those who consumed high amounts of added sugars were more likely to develop the disease, with the risk increasing by 27% for every additional 150 calories of sugar consumed per day. \n",
      "true label:  health \n",
      "predicted label:  health\n",
      "\n",
      "document:  The COVID-19 pandemic led to an unprecedented surge in remote work, resulting in increased demand for video conferencing tools and cybersecurity measures to protect company data from potential cyber threats. \n",
      "true label:  technology \n",
      "predicted label:  technology\n"
     ]
    }
   ],
   "source": [
    "for sample in gen_data:\n",
    "    print(\"\\ndocument: \", sample['document'], \"\\ntrue label: \", labels[int(sample['label'])], \"\\npredicted label: \", sample['output'])\n"
   ]
  },
  {
   "cell_type": "markdown",
   "metadata": {},
   "source": [
    "## Saving results to HuggingFace dataset format"
   ]
  },
  {
   "cell_type": "markdown",
   "metadata": {},
   "source": [
    "Note: Change the save path to your desired path"
   ]
  },
  {
   "cell_type": "code",
   "execution_count": 54,
   "metadata": {},
   "outputs": [
    {
     "name": "stderr",
     "output_type": "stream",
     "text": [
      "Map: 100%|██████████| 90/90 [00:00<00:00, 17547.76 examples/s]\n",
      "Creating json from Arrow format: 100%|██████████| 1/1 [00:00<00:00, 1013.85ba/s]\n"
     ]
    },
    {
     "data": {
      "text/plain": [
       "34352"
      ]
     },
     "execution_count": 54,
     "metadata": {},
     "output_type": "execute_result"
    }
   ],
   "source": [
    "# First rename the columns\n",
    "gen_data = gen_data.rename_column('label', 'true_label')\n",
    "gen_data = gen_data.rename_column('output', 'predicted_label')\n",
    "\n",
    "# Convert numeric labels to string labels if needed\n",
    "gen_data = gen_data.map(lambda x: {'true_label': labels[int(x['true_label'])]})\n",
    "\n",
    "# Save to JSONL format\n",
    "gen_data.to_json('annotation_results.jsonl', lines=True, orient='records')"
   ]
  },
  {
   "cell_type": "markdown",
   "metadata": {},
   "source": [
    "## Calculate metrics"
   ]
  },
  {
   "cell_type": "code",
   "execution_count": 55,
   "metadata": {},
   "outputs": [
    {
     "name": "stdout",
     "output_type": "stream",
     "text": [
      "Accuracy: 91.11%\n",
      "\n",
      "Per-class Metrics:\n",
      "Class\t\tPrecision\tRecall\t\tF1\t\tSupport\n",
      "----------------------------------------------------------------------\n",
      "science     \t1.00\t\t0.67\t\t0.80\t\t6\n",
      "technology  \t0.78\t\t1.00\t\t0.88\t\t7\n",
      "business    \t0.77\t\t1.00\t\t0.87\t\t10\n",
      "health      \t1.00\t\t1.00\t\t1.00\t\t11\n",
      "entertainment\t0.95\t\t0.90\t\t0.92\t\t20\n",
      "environment \t0.92\t\t1.00\t\t0.96\t\t23\n",
      "sports      \t1.00\t\t0.57\t\t0.73\t\t7\n",
      "politics    \t1.00\t\t0.83\t\t0.91\t\t6\n",
      "\n",
      "Overall Metrics:\n",
      "Macro Avg:\t0.93\t\t0.87\t\t0.88\n",
      "Weighted Avg:\t0.92\t\t0.91\t\t0.91\n",
      "\n",
      "Detailed Classification Report:\n",
      "               precision    recall  f1-score   support\n",
      "\n",
      "     business       0.77      1.00      0.87        10\n",
      "entertainment       0.95      0.90      0.92        20\n",
      "  environment       0.92      1.00      0.96        23\n",
      "       health       1.00      1.00      1.00        11\n",
      "     politics       1.00      0.83      0.91         6\n",
      "      science       1.00      0.67      0.80         6\n",
      "       sports       1.00      0.57      0.73         7\n",
      "   technology       0.78      1.00      0.88         7\n",
      "\n",
      "     accuracy                           0.91        90\n",
      "    macro avg       0.93      0.87      0.88        90\n",
      " weighted avg       0.92      0.91      0.91        90\n",
      "\n",
      "\n",
      "Confusion Matrix:\n",
      "Labels: ['science', 'technology', 'business', 'health', 'entertainment', 'environment', 'sports', 'politics']\n",
      "[[ 4  2  0  0  0  0  0  0]\n",
      " [ 0  7  0  0  0  0  0  0]\n",
      " [ 0  0 10  0  0  0  0  0]\n",
      " [ 0  0  0 11  0  0  0  0]\n",
      " [ 0  0  0  0 18  2  0  0]\n",
      " [ 0  0  0  0  0 23  0  0]\n",
      " [ 0  0  2  0  1  0  4  0]\n",
      " [ 0  0  1  0  0  0  0  5]]\n"
     ]
    }
   ],
   "source": [
    "# Import necessary libraries\n",
    "from sklearn.metrics import accuracy_score, precision_recall_fscore_support\n",
    "from sklearn.metrics import confusion_matrix, classification_report\n",
    "import json\n",
    "\n",
    "# Load predictions and true labels\n",
    "true_labels = []\n",
    "pred_labels = []\n",
    "\n",
    "with open('annotation_results.jsonl', 'r') as f:\n",
    "    for line in f:\n",
    "        data = json.loads(line)\n",
    "        true_labels.append(data['true_label'])\n",
    "        pred_labels.append(data['predicted_label'])\n",
    "\n",
    "# Calculate basic accuracy\n",
    "accuracy = accuracy_score(true_labels, pred_labels)\n",
    "print(f\"Accuracy: {accuracy:.2%}\")\n",
    "\n",
    "# Calculate precision, recall, and F1 score for each class\n",
    "precision, recall, f1, support = precision_recall_fscore_support(true_labels, pred_labels, average=None, labels=labels)\n",
    "\n",
    "# Print metrics for each class\n",
    "print(\"\\nPer-class Metrics:\")\n",
    "print(\"Class\\t\\tPrecision\\tRecall\\t\\tF1\\t\\tSupport\")\n",
    "print(\"-\" * 70)\n",
    "for i, label in enumerate(labels):\n",
    "    print(f\"{label:<12}\\t{precision[i]:.2f}\\t\\t{recall[i]:.2f}\\t\\t{f1[i]:.2f}\\t\\t{support[i]}\")\n",
    "\n",
    "# Calculate and print macro and weighted averages\n",
    "macro_precision, macro_recall, macro_f1, _ = precision_recall_fscore_support(true_labels, pred_labels, average='macro')\n",
    "weighted_precision, weighted_recall, weighted_f1, _ = precision_recall_fscore_support(true_labels, pred_labels, average='weighted')\n",
    "\n",
    "print(\"\\nOverall Metrics:\")\n",
    "print(f\"Macro Avg:\\t{macro_precision:.2f}\\t\\t{macro_recall:.2f}\\t\\t{macro_f1:.2f}\")\n",
    "print(f\"Weighted Avg:\\t{weighted_precision:.2f}\\t\\t{weighted_recall:.2f}\\t\\t{weighted_f1:.2f}\")\n",
    "\n",
    "# Print detailed classification report\n",
    "print(\"\\nDetailed Classification Report:\")\n",
    "print(classification_report(true_labels, pred_labels))\n",
    "\n",
    "# Create and print confusion matrix\n",
    "cm = confusion_matrix(true_labels, pred_labels, labels=labels)\n",
    "print(\"\\nConfusion Matrix:\")\n",
    "print(\"Labels:\", labels)\n",
    "print(cm)"
   ]
  }
 ],
 "metadata": {
  "kernelspec": {
   "display_name": "Python 3",
   "language": "python",
   "name": "python3"
  },
  "language_info": {
   "codemirror_mode": {
    "name": "ipython",
    "version": 3
   },
   "file_extension": ".py",
   "mimetype": "text/x-python",
   "name": "python",
   "nbconvert_exporter": "python",
   "pygments_lexer": "ipython3",
   "version": "3.11.11"
  }
 },
 "nbformat": 4,
 "nbformat_minor": 2
}
